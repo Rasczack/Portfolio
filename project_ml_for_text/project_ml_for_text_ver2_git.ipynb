{
 "cells": [
  {
   "cell_type": "markdown",
   "id": "c5547924",
   "metadata": {},
   "source": [
    "# Проект для «Викишоп» с BERT"
   ]
  },
  {
   "cell_type": "markdown",
   "id": "270ed262",
   "metadata": {},
   "source": [
    "**Описание проекта**\n",
    "\n",
    "Интернет-магазин «Викишоп» запускает новый сервис. Теперь пользователи могут редактировать и дополнять описания товаров, как в вики-сообществах. То есть клиенты предлагают свои правки и комментируют изменения других. Магазину нужен инструмент, который будет искать токсичные комментарии и отправлять их на модерацию. \n",
    "\n",
    "Обучите модель классифицировать комментарии на позитивные и негативные. В вашем распоряжении набор данных с разметкой о токсичности правок.\n",
    "\n",
    "Постройте модель со значением метрики качества *F1* не меньше 0.75. \n",
    "\n",
    "**Инструкция по выполнению проекта**\n",
    "\n",
    "1. Загрузите и подготовьте данные.\n",
    "2. Обучите разные модели. \n",
    "3. Сделайте выводы.\n",
    "\n",
    "Для выполнения проекта применять *BERT* необязательно, но вы можете попробовать.\n",
    "\n",
    "**Описание данных**\n",
    "\n",
    "Данные находятся в файле `toxic_comments.csv`. Столбец *text* в нём содержит текст комментария, а *toxic* — целевой признак."
   ]
  },
  {
   "cell_type": "markdown",
   "id": "9883f2f7",
   "metadata": {},
   "source": [
    "# Загрузка и подготовка данных"
   ]
  },
  {
   "cell_type": "markdown",
   "id": "cb8d1a32",
   "metadata": {},
   "source": [
    "## Загрузка библиотек"
   ]
  },
  {
   "cell_type": "code",
   "execution_count": 1,
   "id": "9b342d60",
   "metadata": {},
   "outputs": [],
   "source": [
    "#Общее\n",
    "import numpy as np\n",
    "import pandas as pd\n",
    "import torch\n",
    "import transformers\n",
    "import tqdm\n",
    "import spacy\n",
    "import re\n",
    "import matplotlib.pyplot as plt\n",
    "import time\n",
    "\n",
    "from tqdm import notebook\n",
    "from tqdm import tqdm\n",
    "\n",
    "#nltk\n",
    "import nltk\n",
    "from nltk.corpus import stopwords as nltk_stopwords\n",
    "from sklearn.feature_extraction.text import TfidfVectorizer\n",
    "\n",
    "#sklearn\n",
    "from sklearn.linear_model import LogisticRegression\n",
    "from sklearn.dummy import DummyClassifier\n",
    "from sklearn.model_selection import cross_val_score\n",
    "from sklearn.model_selection import train_test_split\n",
    "\n",
    "from sklearn.metrics import accuracy_score\n",
    "from sklearn.metrics import precision_score, recall_score\n",
    "from sklearn.metrics import precision_recall_curve\n",
    "from sklearn.metrics import roc_auc_score \n",
    "from sklearn.metrics import roc_curve\n",
    "from sklearn.metrics import f1_score\n",
    "\n",
    "#catboost\n",
    "from catboost import CatBoostClassifier\n",
    "\n",
    "#lgbm\n",
    "from lightgbm import LGBMClassifier"
   ]
  },
  {
   "cell_type": "markdown",
   "id": "021f05b1",
   "metadata": {},
   "source": [
    "## Загрузка данных"
   ]
  },
  {
   "cell_type": "code",
   "execution_count": 2,
   "id": "6a8d1b1b",
   "metadata": {},
   "outputs": [],
   "source": [
    "try:\n",
    "    data = pd.read_csv('toxic_comments.csv')\n",
    "except:\n",
    "    data = pd.read_csv('/datasets/toxic_comments.csv')"
   ]
  },
  {
   "cell_type": "markdown",
   "id": "188a2433",
   "metadata": {},
   "source": [
    "## Общий обзор данных"
   ]
  },
  {
   "cell_type": "code",
   "execution_count": 3,
   "id": "79c3da3e",
   "metadata": {},
   "outputs": [
    {
     "data": {
      "text/html": [
       "<div>\n",
       "<style scoped>\n",
       "    .dataframe tbody tr th:only-of-type {\n",
       "        vertical-align: middle;\n",
       "    }\n",
       "\n",
       "    .dataframe tbody tr th {\n",
       "        vertical-align: top;\n",
       "    }\n",
       "\n",
       "    .dataframe thead th {\n",
       "        text-align: right;\n",
       "    }\n",
       "</style>\n",
       "<table border=\"1\" class=\"dataframe\">\n",
       "  <thead>\n",
       "    <tr style=\"text-align: right;\">\n",
       "      <th></th>\n",
       "      <th>Unnamed: 0</th>\n",
       "      <th>text</th>\n",
       "      <th>toxic</th>\n",
       "    </tr>\n",
       "  </thead>\n",
       "  <tbody>\n",
       "    <tr>\n",
       "      <th>0</th>\n",
       "      <td>0</td>\n",
       "      <td>Explanation\\nWhy the edits made under my usern...</td>\n",
       "      <td>0</td>\n",
       "    </tr>\n",
       "    <tr>\n",
       "      <th>1</th>\n",
       "      <td>1</td>\n",
       "      <td>D'aww! He matches this background colour I'm s...</td>\n",
       "      <td>0</td>\n",
       "    </tr>\n",
       "    <tr>\n",
       "      <th>2</th>\n",
       "      <td>2</td>\n",
       "      <td>Hey man, I'm really not trying to edit war. It...</td>\n",
       "      <td>0</td>\n",
       "    </tr>\n",
       "    <tr>\n",
       "      <th>3</th>\n",
       "      <td>3</td>\n",
       "      <td>\"\\nMore\\nI can't make any real suggestions on ...</td>\n",
       "      <td>0</td>\n",
       "    </tr>\n",
       "    <tr>\n",
       "      <th>4</th>\n",
       "      <td>4</td>\n",
       "      <td>You, sir, are my hero. Any chance you remember...</td>\n",
       "      <td>0</td>\n",
       "    </tr>\n",
       "  </tbody>\n",
       "</table>\n",
       "</div>"
      ],
      "text/plain": [
       "   Unnamed: 0                                               text  toxic\n",
       "0           0  Explanation\\nWhy the edits made under my usern...      0\n",
       "1           1  D'aww! He matches this background colour I'm s...      0\n",
       "2           2  Hey man, I'm really not trying to edit war. It...      0\n",
       "3           3  \"\\nMore\\nI can't make any real suggestions on ...      0\n",
       "4           4  You, sir, are my hero. Any chance you remember...      0"
      ]
     },
     "execution_count": 3,
     "metadata": {},
     "output_type": "execute_result"
    }
   ],
   "source": [
    "data.head()"
   ]
  },
  {
   "cell_type": "markdown",
   "id": "ee78a49b",
   "metadata": {},
   "source": [
    "**Обзор Unnamed: 0**"
   ]
  },
  {
   "cell_type": "code",
   "execution_count": 4,
   "id": "99973a16",
   "metadata": {},
   "outputs": [
    {
     "data": {
      "text/plain": [
       "0              0\n",
       "1              1\n",
       "2              2\n",
       "3              3\n",
       "4              4\n",
       "           ...  \n",
       "159287    159446\n",
       "159288    159447\n",
       "159289    159448\n",
       "159290    159449\n",
       "159291    159450\n",
       "Name: Unnamed: 0, Length: 159292, dtype: int64"
      ]
     },
     "execution_count": 4,
     "metadata": {},
     "output_type": "execute_result"
    }
   ],
   "source": [
    "data['Unnamed: 0']"
   ]
  },
  {
   "cell_type": "code",
   "execution_count": 5,
   "id": "642b3feb",
   "metadata": {},
   "outputs": [
    {
     "data": {
      "text/html": [
       "<div>\n",
       "<style scoped>\n",
       "    .dataframe tbody tr th:only-of-type {\n",
       "        vertical-align: middle;\n",
       "    }\n",
       "\n",
       "    .dataframe tbody tr th {\n",
       "        vertical-align: top;\n",
       "    }\n",
       "\n",
       "    .dataframe thead th {\n",
       "        text-align: right;\n",
       "    }\n",
       "</style>\n",
       "<table border=\"1\" class=\"dataframe\">\n",
       "  <thead>\n",
       "    <tr style=\"text-align: right;\">\n",
       "      <th></th>\n",
       "      <th>Unnamed: 0</th>\n",
       "      <th>text</th>\n",
       "      <th>toxic</th>\n",
       "    </tr>\n",
       "  </thead>\n",
       "  <tbody>\n",
       "    <tr>\n",
       "      <th>0</th>\n",
       "      <td>0</td>\n",
       "      <td>Explanation\\nWhy the edits made under my usern...</td>\n",
       "      <td>0</td>\n",
       "    </tr>\n",
       "    <tr>\n",
       "      <th>1</th>\n",
       "      <td>1</td>\n",
       "      <td>D'aww! He matches this background colour I'm s...</td>\n",
       "      <td>0</td>\n",
       "    </tr>\n",
       "    <tr>\n",
       "      <th>2</th>\n",
       "      <td>2</td>\n",
       "      <td>Hey man, I'm really not trying to edit war. It...</td>\n",
       "      <td>0</td>\n",
       "    </tr>\n",
       "    <tr>\n",
       "      <th>3</th>\n",
       "      <td>3</td>\n",
       "      <td>\"\\nMore\\nI can't make any real suggestions on ...</td>\n",
       "      <td>0</td>\n",
       "    </tr>\n",
       "    <tr>\n",
       "      <th>4</th>\n",
       "      <td>4</td>\n",
       "      <td>You, sir, are my hero. Any chance you remember...</td>\n",
       "      <td>0</td>\n",
       "    </tr>\n",
       "    <tr>\n",
       "      <th>...</th>\n",
       "      <td>...</td>\n",
       "      <td>...</td>\n",
       "      <td>...</td>\n",
       "    </tr>\n",
       "    <tr>\n",
       "      <th>6075</th>\n",
       "      <td>6075</td>\n",
       "      <td>In fact, would anyone object to my changing of...</td>\n",
       "      <td>0</td>\n",
       "    </tr>\n",
       "    <tr>\n",
       "      <th>6076</th>\n",
       "      <td>6076</td>\n",
       "      <td>She has plenty of real-world references, thank...</td>\n",
       "      <td>0</td>\n",
       "    </tr>\n",
       "    <tr>\n",
       "      <th>6077</th>\n",
       "      <td>6077</td>\n",
       "      <td>\"\\n\\n Wester Civ \\n\\nHello,\\n  I had gotten an...</td>\n",
       "      <td>0</td>\n",
       "    </tr>\n",
       "    <tr>\n",
       "      <th>6078</th>\n",
       "      <td>6078</td>\n",
       "      <td>\"\\n\\nPenis envy\\nFrom Wikipedia, the free ency...</td>\n",
       "      <td>1</td>\n",
       "    </tr>\n",
       "    <tr>\n",
       "      <th>6079</th>\n",
       "      <td>6079</td>\n",
       "      <td>Hrafn \\n\\nPM, Where did Hrafn go? There was a ...</td>\n",
       "      <td>0</td>\n",
       "    </tr>\n",
       "  </tbody>\n",
       "</table>\n",
       "<p>6080 rows × 3 columns</p>\n",
       "</div>"
      ],
      "text/plain": [
       "      Unnamed: 0                                               text  toxic\n",
       "0              0  Explanation\\nWhy the edits made under my usern...      0\n",
       "1              1  D'aww! He matches this background colour I'm s...      0\n",
       "2              2  Hey man, I'm really not trying to edit war. It...      0\n",
       "3              3  \"\\nMore\\nI can't make any real suggestions on ...      0\n",
       "4              4  You, sir, are my hero. Any chance you remember...      0\n",
       "...          ...                                                ...    ...\n",
       "6075        6075  In fact, would anyone object to my changing of...      0\n",
       "6076        6076  She has plenty of real-world references, thank...      0\n",
       "6077        6077  \"\\n\\n Wester Civ \\n\\nHello,\\n  I had gotten an...      0\n",
       "6078        6078  \"\\n\\nPenis envy\\nFrom Wikipedia, the free ency...      1\n",
       "6079        6079  Hrafn \\n\\nPM, Where did Hrafn go? There was a ...      0\n",
       "\n",
       "[6080 rows x 3 columns]"
      ]
     },
     "execution_count": 5,
     "metadata": {},
     "output_type": "execute_result"
    }
   ],
   "source": [
    "data[data['Unnamed: 0'] == data.index]"
   ]
  },
  {
   "cell_type": "markdown",
   "id": "e72f6fa9",
   "metadata": {},
   "source": [
    "Очень похоже на остаток от индексов, после обработки датафрейма. Требуется удалить"
   ]
  },
  {
   "cell_type": "code",
   "execution_count": 6,
   "id": "9ca7cfd2",
   "metadata": {},
   "outputs": [],
   "source": [
    "data.drop('Unnamed: 0', axis=1, inplace=True)"
   ]
  },
  {
   "cell_type": "markdown",
   "id": "8ee231bb",
   "metadata": {},
   "source": [
    "**Дубликаты**"
   ]
  },
  {
   "cell_type": "code",
   "execution_count": 7,
   "id": "5dffb367",
   "metadata": {
    "scrolled": false
   },
   "outputs": [
    {
     "data": {
      "text/plain": [
       "0"
      ]
     },
     "execution_count": 7,
     "metadata": {},
     "output_type": "execute_result"
    }
   ],
   "source": [
    "data.duplicated().sum()"
   ]
  },
  {
   "cell_type": "markdown",
   "id": "bbd1da85",
   "metadata": {},
   "source": [
    "**Пропуски**"
   ]
  },
  {
   "cell_type": "code",
   "execution_count": 8,
   "id": "783381d6",
   "metadata": {
    "scrolled": true
   },
   "outputs": [
    {
     "data": {
      "text/plain": [
       "0"
      ]
     },
     "execution_count": 8,
     "metadata": {},
     "output_type": "execute_result"
    }
   ],
   "source": [
    "data.isna().sum().sum()"
   ]
  },
  {
   "cell_type": "markdown",
   "id": "e5e377db",
   "metadata": {},
   "source": [
    "**Баланс классов**"
   ]
  },
  {
   "cell_type": "code",
   "execution_count": 9,
   "id": "553fa5cd",
   "metadata": {},
   "outputs": [],
   "source": [
    "toxic_text = data.toxic[data.toxic==1].count()\n",
    "non_toxic_text = data.toxic[data.toxic==0].count()"
   ]
  },
  {
   "cell_type": "code",
   "execution_count": 10,
   "id": "931b5165",
   "metadata": {},
   "outputs": [
    {
     "data": {
      "text/plain": [
       "'Общий процент токсичных текстов: 10.16%'"
      ]
     },
     "execution_count": 10,
     "metadata": {},
     "output_type": "execute_result"
    }
   ],
   "source": [
    "toxic_percent = 100 * toxic_text / data.shape[0]\n",
    "f\"Общий процент токсичных текстов: {toxic_percent:.2f}%\""
   ]
  },
  {
   "cell_type": "code",
   "execution_count": 11,
   "id": "c433d3a1",
   "metadata": {},
   "outputs": [
    {
     "data": {
      "text/plain": [
       "'Общий процент нетоксичных текстов: 89.84%'"
      ]
     },
     "execution_count": 11,
     "metadata": {},
     "output_type": "execute_result"
    }
   ],
   "source": [
    "non_toxic_percent = 100 * non_toxic_text / data.shape[0]\n",
    "f\"Общий процент нетоксичных текстов: {non_toxic_percent:.2f}%\""
   ]
  },
  {
   "cell_type": "code",
   "execution_count": 12,
   "id": "6cadcc99",
   "metadata": {},
   "outputs": [
    {
     "data": {
      "text/plain": [
       "'Соотношение токсичных к нетоксичным текстам: 1 к 9'"
      ]
     },
     "execution_count": 12,
     "metadata": {},
     "output_type": "execute_result"
    }
   ],
   "source": [
    "f\"Соотношение токсичных к нетоксичным текстам: 1 к {round(non_toxic_percent / toxic_percent)}\""
   ]
  },
  {
   "cell_type": "markdown",
   "id": "cfbdac7a",
   "metadata": {},
   "source": [
    "Дисбаланс классов на лицо"
   ]
  },
  {
   "cell_type": "markdown",
   "id": "3a8dcba9",
   "metadata": {},
   "source": [
    "## Нормализация и лемматизация текста"
   ]
  },
  {
   "cell_type": "code",
   "execution_count": 13,
   "id": "0a0c0eb4",
   "metadata": {},
   "outputs": [],
   "source": [
    "def clear_text(text_row):\n",
    "    \"\"\"\n",
    "    text_row - строка для для нормализации\n",
    "    возвращает нормализованную строку\n",
    "    \"\"\"    \n",
    "    text_row = re.sub(r'[^a-zA-Z ]', ' ', text_row) \n",
    "    \"\".join(text_row.split()) \n",
    "    return \" \".join(text_row.split()).lower()\n",
    "\n",
    "\n",
    "nlp = spacy.load('en_core_web_sm', disable=['parser', 'ner'])\n",
    "def lemmatize(text_row):\n",
    "    \"\"\"\n",
    "    text_row - строка для лемматизации\n",
    "    возвращает лемматизированную строку\n",
    "    \"\"\"\n",
    "    doc = nlp(text_row)\n",
    "    return \" \".join([token.lemma_ for token in doc])"
   ]
  },
  {
   "cell_type": "code",
   "execution_count": 14,
   "id": "0468f65f",
   "metadata": {},
   "outputs": [],
   "source": [
    "data['text'] = data.text.apply(clear_text)"
   ]
  },
  {
   "cell_type": "raw",
   "id": "2e191ae5",
   "metadata": {},
   "source": [
    "%%time\n",
    "data['text'] = data.text.apply(lemmatize)"
   ]
  },
  {
   "cell_type": "code",
   "execution_count": 15,
   "id": "bbeaac07",
   "metadata": {
    "scrolled": true
   },
   "outputs": [
    {
     "name": "stdout",
     "output_type": "stream",
     "text": [
      "Wall time: 16min 6s\n"
     ]
    }
   ],
   "source": [
    "%%time\n",
    "lemmatized_texts = []\n",
    "for row in range(len(data)):\n",
    "    lemmatized_texts.append(lemmatize(data.loc[row, 'text']))"
   ]
  },
  {
   "cell_type": "code",
   "execution_count": 16,
   "id": "8a57756e",
   "metadata": {},
   "outputs": [],
   "source": [
    "data['text'] = lemmatized_texts"
   ]
  },
  {
   "cell_type": "code",
   "execution_count": 17,
   "id": "185af087",
   "metadata": {
    "scrolled": true
   },
   "outputs": [
    {
     "data": {
      "text/html": [
       "<div>\n",
       "<style scoped>\n",
       "    .dataframe tbody tr th:only-of-type {\n",
       "        vertical-align: middle;\n",
       "    }\n",
       "\n",
       "    .dataframe tbody tr th {\n",
       "        vertical-align: top;\n",
       "    }\n",
       "\n",
       "    .dataframe thead th {\n",
       "        text-align: right;\n",
       "    }\n",
       "</style>\n",
       "<table border=\"1\" class=\"dataframe\">\n",
       "  <thead>\n",
       "    <tr style=\"text-align: right;\">\n",
       "      <th></th>\n",
       "      <th>text</th>\n",
       "      <th>toxic</th>\n",
       "    </tr>\n",
       "  </thead>\n",
       "  <tbody>\n",
       "    <tr>\n",
       "      <th>0</th>\n",
       "      <td>explanation why the edit make under my usernam...</td>\n",
       "      <td>0</td>\n",
       "    </tr>\n",
       "    <tr>\n",
       "      <th>1</th>\n",
       "      <td>d aww he match this background colour I m seem...</td>\n",
       "      <td>0</td>\n",
       "    </tr>\n",
       "    <tr>\n",
       "      <th>2</th>\n",
       "      <td>hey man I m really not try to edit war it s ju...</td>\n",
       "      <td>0</td>\n",
       "    </tr>\n",
       "    <tr>\n",
       "      <th>3</th>\n",
       "      <td>more I can t make any real suggestion on impro...</td>\n",
       "      <td>0</td>\n",
       "    </tr>\n",
       "    <tr>\n",
       "      <th>4</th>\n",
       "      <td>you sir be my hero any chance you remember wha...</td>\n",
       "      <td>0</td>\n",
       "    </tr>\n",
       "  </tbody>\n",
       "</table>\n",
       "</div>"
      ],
      "text/plain": [
       "                                                text  toxic\n",
       "0  explanation why the edit make under my usernam...      0\n",
       "1  d aww he match this background colour I m seem...      0\n",
       "2  hey man I m really not try to edit war it s ju...      0\n",
       "3  more I can t make any real suggestion on impro...      0\n",
       "4  you sir be my hero any chance you remember wha...      0"
      ]
     },
     "execution_count": 17,
     "metadata": {},
     "output_type": "execute_result"
    }
   ],
   "source": [
    "data.head()"
   ]
  },
  {
   "cell_type": "markdown",
   "id": "8a0d8af0",
   "metadata": {},
   "source": [
    "## Вывод"
   ]
  },
  {
   "cell_type": "markdown",
   "id": "785a6465",
   "metadata": {},
   "source": [
    "Провели первичную подготовку признаков, использовали нормализацию текста и лемматизировали его с помощью библиотеки spaCy."
   ]
  },
  {
   "cell_type": "markdown",
   "id": "588ef48c",
   "metadata": {},
   "source": [
    "# Обучение моделей"
   ]
  },
  {
   "cell_type": "markdown",
   "id": "61fce164",
   "metadata": {},
   "source": [
    "## Подготовка признаков"
   ]
  },
  {
   "cell_type": "markdown",
   "id": "f20dee03",
   "metadata": {},
   "source": [
    "Разделим на обучающую, валидационную и тестовую части"
   ]
  },
  {
   "cell_type": "code",
   "execution_count": 18,
   "id": "1b9f8d26",
   "metadata": {},
   "outputs": [],
   "source": [
    "X = data['text']\n",
    "y = data['toxic']"
   ]
  },
  {
   "cell_type": "code",
   "execution_count": 19,
   "id": "277963e7",
   "metadata": {
    "scrolled": true
   },
   "outputs": [],
   "source": [
    "X_train, X_valid_test, y_train, y_valid_test = train_test_split(X, y, test_size=0.4, random_state=12345 )"
   ]
  },
  {
   "cell_type": "code",
   "execution_count": 20,
   "id": "64442430",
   "metadata": {},
   "outputs": [],
   "source": [
    "X_valid, X_test, y_valid, y_test = train_test_split(X_valid_test, y_valid_test, test_size=0.5, random_state=12345 )"
   ]
  },
  {
   "cell_type": "markdown",
   "id": "1a11eb2b",
   "metadata": {},
   "source": [
    "TF-IDF"
   ]
  },
  {
   "cell_type": "code",
   "execution_count": 21,
   "id": "a8e0815a",
   "metadata": {
    "scrolled": true
   },
   "outputs": [
    {
     "name": "stderr",
     "output_type": "stream",
     "text": [
      "[nltk_data] Downloading package stopwords to\n",
      "[nltk_data]     C:\\Users\\Rasczack\\AppData\\Roaming\\nltk_data...\n",
      "[nltk_data]   Package stopwords is already up-to-date!\n"
     ]
    }
   ],
   "source": [
    "nltk.download('stopwords')\n",
    "stopwords = set(nltk_stopwords.words('english'))\n",
    "count_tf_idf = TfidfVectorizer(stop_words=stopwords)"
   ]
  },
  {
   "cell_type": "code",
   "execution_count": 22,
   "id": "ae33847f",
   "metadata": {},
   "outputs": [],
   "source": [
    "X_train = count_tf_idf.fit_transform(X_train.values)"
   ]
  },
  {
   "cell_type": "code",
   "execution_count": 23,
   "id": "2a03becc",
   "metadata": {},
   "outputs": [],
   "source": [
    "X_valid = count_tf_idf.transform(X_valid.values)\n",
    "X_test = count_tf_idf.transform(X_test.values)"
   ]
  },
  {
   "cell_type": "markdown",
   "id": "698db010",
   "metadata": {},
   "source": [
    "## Обучение"
   ]
  },
  {
   "cell_type": "markdown",
   "id": "3d5f24f6",
   "metadata": {},
   "source": [
    "Обучим модели и запишем их:\n",
    "- время на обучение\n",
    "- метрику f1  на обучающем сете\n",
    "- метрику f1 на валидационном сете\n",
    "- лучший порог для метрики f1 на валидационном сете\n",
    "- метрику f1 с подобранным порогом"
   ]
  },
  {
   "cell_type": "code",
   "execution_count": 24,
   "id": "83168f7f",
   "metadata": {},
   "outputs": [],
   "source": [
    "classifiers = {\n",
    "    'lr': ['LogisticRegression', LogisticRegression(solver='newton-cg', \n",
    "                                                    max_iter=2000,\n",
    "                                                    class_weight='balanced',\n",
    "                                                    random_state=12)],    \n",
    "    'catboost': ['CatBoostClassifier', CatBoostClassifier(n_estimators=1000,\n",
    "                                                          auto_class_weights='Balanced',\n",
    "                                                          max_depth=4,\n",
    "                                                          verbose=False)],\n",
    "    \n",
    "    'lgbm': ['LGBMClassifier', LGBMClassifier(boosting_type='goss',\n",
    "                            n_estimators=1000,\n",
    "                            class_weight='balanced',\n",
    "                            learning_rate=0.05)]\n",
    "}\n",
    "\n",
    "classifiers_threshold = {\n",
    "    'lr': 0,\n",
    "    'catboost': 0,\n",
    "    'lgbm': 0\n",
    "}"
   ]
  },
  {
   "cell_type": "code",
   "execution_count": 25,
   "id": "80f76f43",
   "metadata": {},
   "outputs": [],
   "source": [
    "# таблица для сохранения результатов\n",
    "model_scores=pd.DataFrame(\n",
    "    {'classifier': classifiers.keys(), \n",
    "     'valid_f1_score': np.zeros(len(classifiers)),\n",
    "     'threshold': np.zeros(len(classifiers)),\n",
    "     'th_f1_score': np.zeros(len(classifiers)),\n",
    "     'fit_time': np.zeros(len(classifiers))}\n",
    ")\n"
   ]
  },
  {
   "cell_type": "code",
   "execution_count": 26,
   "id": "b6ec65e2",
   "metadata": {},
   "outputs": [],
   "source": [
    "def threshold_table_n_graph(model):\n",
    "    \"\"\"\n",
    "    Функция считает precision, recall, accuracy в зависимости от порога классификации\n",
    "    и рисует график кривой precision_Recall\n",
    "    Возвращает лучшую метрику f1 и порог \n",
    "    \"\"\"\n",
    "    probabilities_valid = model.predict_proba(X_valid)\n",
    "    predict_proba_valid = probabilities_valid[:, 1]\n",
    "    best_f1 = 0\n",
    "    for threshold in np.arange(0, 0.95, 0.05):\n",
    "        predicted_valid = predict_proba_valid > threshold \n",
    "        precision = precision_score(y_valid, predicted_valid)\n",
    "        recall = recall_score(y_valid, predicted_valid)\n",
    "        accuracy = accuracy_score(y_valid, predicted_valid)\n",
    "        f1 = f1_score(y_valid, predicted_valid)\n",
    "        roc = roc_auc_score(y_valid, predict_proba_valid)\n",
    "        print(\n",
    "            \"порог = {:.2f} | accuracy = {:.3f}, точность = {:.3f}, полнота = {:.3f}, f1 = {:.3f}, roc_auc = {:.3f}\"\n",
    "            .format(threshold, accuracy, precision, recall, f1, roc)\n",
    "        )\n",
    "        if f1 > best_f1:\n",
    "            best_f1 = f1\n",
    "            best_threshold = threshold\n",
    "    \n",
    "\n",
    "    precision, recall, thresholds = precision_recall_curve(y_valid, predict_proba_valid)\n",
    "    \n",
    "    plt.figure(figsize=(6, 6))\n",
    "    plt.step(recall, precision, where='post')\n",
    "    plt.xlabel('Recall')\n",
    "    plt.ylabel('Precision')\n",
    "    plt.ylim([0.0, 1.05])\n",
    "    plt.xlim([0.0, 1.0])\n",
    "    plt.title('Кривая Precision-Recall')\n",
    "    plt.show()\n",
    "    return best_f1, best_threshold"
   ]
  },
  {
   "cell_type": "code",
   "execution_count": 27,
   "id": "91845ccd",
   "metadata": {
    "scrolled": false
   },
   "outputs": [
    {
     "name": "stdout",
     "output_type": "stream",
     "text": [
      "LogisticRegression \n",
      "\n",
      "порог = 0.00 | accuracy = 0.104, точность = 0.104, полнота = 1.000, f1 = 0.188, roc_auc = 0.971\n",
      "порог = 0.05 | accuracy = 0.462, точность = 0.162, полнота = 0.997, f1 = 0.278, roc_auc = 0.971\n",
      "порог = 0.10 | accuracy = 0.646, точность = 0.226, полнота = 0.988, f1 = 0.368, roc_auc = 0.971\n",
      "порог = 0.15 | accuracy = 0.753, точность = 0.293, полнота = 0.974, f1 = 0.451, roc_auc = 0.971\n",
      "порог = 0.20 | accuracy = 0.820, точность = 0.363, полнота = 0.965, f1 = 0.527, roc_auc = 0.971\n",
      "порог = 0.25 | accuracy = 0.857, точность = 0.418, полнота = 0.945, f1 = 0.579, roc_auc = 0.971\n",
      "порог = 0.30 | accuracy = 0.887, точность = 0.478, полнота = 0.931, f1 = 0.632, roc_auc = 0.971\n",
      "порог = 0.35 | accuracy = 0.909, точность = 0.536, полнота = 0.915, f1 = 0.676, roc_auc = 0.971\n",
      "порог = 0.40 | accuracy = 0.924, точность = 0.587, полнота = 0.897, f1 = 0.709, roc_auc = 0.971\n",
      "порог = 0.45 | accuracy = 0.933, точность = 0.629, полнота = 0.877, f1 = 0.733, roc_auc = 0.971\n",
      "порог = 0.50 | accuracy = 0.940, точность = 0.666, полнота = 0.852, f1 = 0.747, roc_auc = 0.971\n",
      "порог = 0.55 | accuracy = 0.947, точность = 0.709, полнота = 0.831, f1 = 0.765, roc_auc = 0.971\n",
      "порог = 0.60 | accuracy = 0.952, точность = 0.748, полнота = 0.809, f1 = 0.777, roc_auc = 0.971\n",
      "порог = 0.65 | accuracy = 0.955, точность = 0.784, полнота = 0.783, f1 = 0.784, roc_auc = 0.971\n",
      "порог = 0.70 | accuracy = 0.957, точность = 0.820, полнота = 0.752, f1 = 0.784, roc_auc = 0.971\n",
      "порог = 0.75 | accuracy = 0.958, точность = 0.850, полнота = 0.724, f1 = 0.782, roc_auc = 0.971\n",
      "порог = 0.80 | accuracy = 0.958, точность = 0.882, полнота = 0.684, f1 = 0.770, roc_auc = 0.971\n",
      "порог = 0.85 | accuracy = 0.957, точность = 0.917, полнота = 0.641, f1 = 0.755, roc_auc = 0.971\n",
      "порог = 0.90 | accuracy = 0.954, точность = 0.945, полнота = 0.594, f1 = 0.729, roc_auc = 0.971\n"
     ]
    },
    {
     "data": {
      "image/png": "[encoded data removed]",
      "text/plain": [
       "<Figure size 432x432 with 1 Axes>"
      ]
     },
     "metadata": {
      "needs_background": "light"
     },
     "output_type": "display_data"
    },
    {
     "name": "stdout",
     "output_type": "stream",
     "text": [
      "Время обучения модели составило 0.04 сек.\n",
      "\n",
      "\n",
      "CatBoostClassifier \n",
      "\n",
      "порог = 0.00 | accuracy = 0.104, точность = 0.104, полнота = 1.000, f1 = 0.188, roc_auc = 0.962\n",
      "порог = 0.05 | accuracy = 0.299, точность = 0.129, полнота = 0.998, f1 = 0.228, roc_auc = 0.962\n",
      "порог = 0.10 | accuracy = 0.459, точность = 0.160, полнота = 0.991, f1 = 0.276, roc_auc = 0.962\n",
      "порог = 0.15 | accuracy = 0.575, точность = 0.195, полнота = 0.984, f1 = 0.325, roc_auc = 0.962\n",
      "порог = 0.20 | accuracy = 0.676, точность = 0.239, полнота = 0.973, f1 = 0.384, roc_auc = 0.962\n",
      "порог = 0.25 | accuracy = 0.756, точность = 0.294, полнота = 0.960, f1 = 0.450, roc_auc = 0.962\n",
      "порог = 0.30 | accuracy = 0.823, точность = 0.365, полнота = 0.944, f1 = 0.526, roc_auc = 0.962\n",
      "порог = 0.35 | accuracy = 0.895, точность = 0.497, полнота = 0.909, f1 = 0.643, roc_auc = 0.962\n",
      "порог = 0.40 | accuracy = 0.918, точность = 0.567, полнота = 0.882, f1 = 0.690, roc_auc = 0.962\n",
      "порог = 0.45 | accuracy = 0.934, точность = 0.638, полнота = 0.855, f1 = 0.731, roc_auc = 0.962\n",
      "порог = 0.50 | accuracy = 0.944, точность = 0.692, полнота = 0.831, f1 = 0.755, roc_auc = 0.962\n",
      "порог = 0.55 | accuracy = 0.950, точность = 0.742, полнота = 0.802, f1 = 0.770, roc_auc = 0.962\n",
      "порог = 0.60 | accuracy = 0.954, точность = 0.784, полнота = 0.776, f1 = 0.780, roc_auc = 0.962\n",
      "порог = 0.65 | accuracy = 0.957, точность = 0.821, полнота = 0.751, f1 = 0.784, roc_auc = 0.962\n",
      "порог = 0.70 | accuracy = 0.958, точность = 0.851, полнота = 0.719, f1 = 0.780, roc_auc = 0.962\n",
      "порог = 0.75 | accuracy = 0.956, точность = 0.876, полнота = 0.677, f1 = 0.764, roc_auc = 0.962\n",
      "порог = 0.80 | accuracy = 0.955, точность = 0.903, полнота = 0.632, f1 = 0.744, roc_auc = 0.962\n",
      "порог = 0.85 | accuracy = 0.952, точность = 0.935, полнота = 0.583, f1 = 0.718, roc_auc = 0.962\n",
      "порог = 0.90 | accuracy = 0.946, точность = 0.954, полнота = 0.503, f1 = 0.659, roc_auc = 0.962\n"
     ]
    },
    {
     "data": {
      "image/png": "[encoded data removed]",
      "text/plain": [
       "<Figure size 432x432 with 1 Axes>"
      ]
     },
     "metadata": {
      "needs_background": "light"
     },
     "output_type": "display_data"
    },
    {
     "name": "stdout",
     "output_type": "stream",
     "text": [
      "Время обучения модели составило 6.48 сек.\n",
      "\n",
      "\n",
      "LGBMClassifier \n",
      "\n",
      "порог = 0.00 | accuracy = 0.104, точность = 0.104, полнота = 1.000, f1 = 0.188, roc_auc = 0.963\n",
      "порог = 0.05 | accuracy = 0.664, точность = 0.233, полнота = 0.976, f1 = 0.377, roc_auc = 0.963\n",
      "порог = 0.10 | accuracy = 0.764, точность = 0.301, полнота = 0.957, f1 = 0.458, roc_auc = 0.963\n",
      "порог = 0.15 | accuracy = 0.819, точность = 0.358, полнота = 0.940, f1 = 0.519, roc_auc = 0.963\n",
      "порог = 0.20 | accuracy = 0.855, точность = 0.412, полнота = 0.923, f1 = 0.569, roc_auc = 0.963\n",
      "порог = 0.25 | accuracy = 0.881, точность = 0.463, полнота = 0.910, f1 = 0.614, roc_auc = 0.963\n",
      "порог = 0.30 | accuracy = 0.900, точность = 0.512, полнота = 0.896, f1 = 0.652, roc_auc = 0.963\n",
      "порог = 0.35 | accuracy = 0.915, точность = 0.557, полнота = 0.882, f1 = 0.682, roc_auc = 0.963\n",
      "порог = 0.40 | accuracy = 0.931, точность = 0.623, полнота = 0.862, f1 = 0.724, roc_auc = 0.963\n",
      "порог = 0.45 | accuracy = 0.939, точность = 0.660, полнота = 0.843, f1 = 0.741, roc_auc = 0.963\n",
      "порог = 0.50 | accuracy = 0.945, точность = 0.697, полнота = 0.825, f1 = 0.756, roc_auc = 0.963\n",
      "порог = 0.55 | accuracy = 0.950, точность = 0.734, полнота = 0.808, f1 = 0.769, roc_auc = 0.963\n",
      "порог = 0.60 | accuracy = 0.953, точность = 0.765, полнота = 0.793, f1 = 0.779, roc_auc = 0.963\n",
      "порог = 0.65 | accuracy = 0.956, точность = 0.799, полнота = 0.777, f1 = 0.788, roc_auc = 0.963\n",
      "порог = 0.70 | accuracy = 0.959, точность = 0.828, полнота = 0.761, f1 = 0.793, roc_auc = 0.963\n",
      "порог = 0.75 | accuracy = 0.960, точность = 0.852, полнота = 0.739, f1 = 0.792, roc_auc = 0.963\n",
      "порог = 0.80 | accuracy = 0.960, точность = 0.879, полнота = 0.713, f1 = 0.788, roc_auc = 0.963\n",
      "порог = 0.85 | accuracy = 0.960, точность = 0.902, полнота = 0.685, f1 = 0.779, roc_auc = 0.963\n",
      "порог = 0.90 | accuracy = 0.959, точность = 0.936, полнота = 0.645, f1 = 0.764, roc_auc = 0.963\n"
     ]
    },
    {
     "data": {
      "image/png": "[encoded data removed]",
      "text/plain": [
       "<Figure size 432x432 with 1 Axes>"
      ]
     },
     "metadata": {
      "needs_background": "light"
     },
     "output_type": "display_data"
    },
    {
     "name": "stdout",
     "output_type": "stream",
     "text": [
      "Время обучения модели составило 3.35 сек.\n",
      "\n",
      "\n"
     ]
    }
   ],
   "source": [
    "i=0\n",
    "\n",
    "for key, items in classifiers.items():\n",
    "    start = time.time()\n",
    "    model = items[1]\n",
    "    print(items[0], '\\n')\n",
    "\n",
    "    # Train, score n time\n",
    "    model = model.fit(X_train, y_train)\n",
    "    stop = time.time()\n",
    "    delta_time = np.round((stop - start)/60, 2)\n",
    "    model_scores.loc[i, 'fit_time'] = delta_time\n",
    "    model_scores.loc[i, 'valid_f1_score'] = f1_score(y_valid, model.predict(X_valid))\n",
    "    \n",
    "    #порог классификации\n",
    "    threshold, model_scores.loc[i, 'threshold'] = threshold_table_n_graph(model)\n",
    "    model_scores.loc[i, 'th_f1_score'] = threshold\n",
    "    classifiers_threshold[key] = threshold\n",
    "    \n",
    "    print(f\"Время обучения модели составило {delta_time} сек.\\n\\n\")\n",
    "    i+=1"
   ]
  },
  {
   "cell_type": "code",
   "execution_count": 28,
   "id": "55c3fb84",
   "metadata": {},
   "outputs": [
    {
     "data": {
      "text/html": [
       "<div>\n",
       "<style scoped>\n",
       "    .dataframe tbody tr th:only-of-type {\n",
       "        vertical-align: middle;\n",
       "    }\n",
       "\n",
       "    .dataframe tbody tr th {\n",
       "        vertical-align: top;\n",
       "    }\n",
       "\n",
       "    .dataframe thead th {\n",
       "        text-align: right;\n",
       "    }\n",
       "</style>\n",
       "<table border=\"1\" class=\"dataframe\">\n",
       "  <thead>\n",
       "    <tr style=\"text-align: right;\">\n",
       "      <th></th>\n",
       "      <th>classifier</th>\n",
       "      <th>valid_f1_score</th>\n",
       "      <th>threshold</th>\n",
       "      <th>th_f1_score</th>\n",
       "      <th>fit_time</th>\n",
       "    </tr>\n",
       "  </thead>\n",
       "  <tbody>\n",
       "    <tr>\n",
       "      <th>0</th>\n",
       "      <td>lr</td>\n",
       "      <td>0.747485</td>\n",
       "      <td>0.70</td>\n",
       "      <td>0.784320</td>\n",
       "      <td>0.04</td>\n",
       "    </tr>\n",
       "    <tr>\n",
       "      <th>1</th>\n",
       "      <td>catboost</td>\n",
       "      <td>0.754867</td>\n",
       "      <td>0.65</td>\n",
       "      <td>0.784431</td>\n",
       "      <td>6.48</td>\n",
       "    </tr>\n",
       "    <tr>\n",
       "      <th>2</th>\n",
       "      <td>lgbm</td>\n",
       "      <td>0.755875</td>\n",
       "      <td>0.70</td>\n",
       "      <td>0.792892</td>\n",
       "      <td>3.35</td>\n",
       "    </tr>\n",
       "  </tbody>\n",
       "</table>\n",
       "</div>"
      ],
      "text/plain": [
       "  classifier  valid_f1_score  threshold  th_f1_score  fit_time\n",
       "0         lr        0.747485       0.70     0.784320      0.04\n",
       "1   catboost        0.754867       0.65     0.784431      6.48\n",
       "2       lgbm        0.755875       0.70     0.792892      3.35"
      ]
     },
     "execution_count": 28,
     "metadata": {},
     "output_type": "execute_result"
    }
   ],
   "source": [
    "model_scores"
   ]
  },
  {
   "cell_type": "markdown",
   "id": "30776093",
   "metadata": {},
   "source": [
    "## Анализ моделей"
   ]
  },
  {
   "cell_type": "markdown",
   "id": "34f7f70d",
   "metadata": {},
   "source": [
    "Все CatBoost и LGBM на валидационной выборке показали результат в рамках техзадания. При подборе порога классификации все модели могут пройти порог метрики f1 = 0.75. \n",
    "\n",
    "Мы выберем модель LGBM, как показавшую не только лучшие результаты, но и более быструю чем CatBoost почти в 2 раза."
   ]
  },
  {
   "cell_type": "markdown",
   "id": "95f4aaa9",
   "metadata": {},
   "source": [
    "## Тестирование моделей"
   ]
  },
  {
   "cell_type": "markdown",
   "id": "115636f0",
   "metadata": {},
   "source": [
    "Проверим модель на тестовов выборке с подобранным порогом"
   ]
  },
  {
   "cell_type": "code",
   "execution_count": 29,
   "id": "c3363340",
   "metadata": {},
   "outputs": [],
   "source": [
    "best_model = classifiers['lgbm'][1]"
   ]
  },
  {
   "cell_type": "code",
   "execution_count": 30,
   "id": "6d38dc26",
   "metadata": {},
   "outputs": [],
   "source": [
    "best_model = best_model.fit(X_train, y_train)"
   ]
  },
  {
   "cell_type": "code",
   "execution_count": 31,
   "id": "04b1748c",
   "metadata": {},
   "outputs": [],
   "source": [
    "predict = model.predict_proba(X_test)[:, 1] > classifiers_threshold['lgbm']"
   ]
  },
  {
   "cell_type": "code",
   "execution_count": 32,
   "id": "0aec382d",
   "metadata": {
    "scrolled": true
   },
   "outputs": [
    {
     "data": {
      "text/plain": [
       "'Значение метрики f1 на тестовой выборке у LGBM модели составило: 0.78'"
      ]
     },
     "execution_count": 32,
     "metadata": {},
     "output_type": "execute_result"
    }
   ],
   "source": [
    "f\"Значение метрики f1 на тестовой выборке у LGBM модели составило: {f1_score(y_test, predict):.2f}\""
   ]
  },
  {
   "cell_type": "markdown",
   "id": "c7abfac5",
   "metadata": {},
   "source": [
    "Хороший результат получился, модель можно рекомендовать"
   ]
  },
  {
   "cell_type": "markdown",
   "id": "ca1980f8",
   "metadata": {},
   "source": [
    "# Общий вывод"
   ]
  },
  {
   "cell_type": "markdown",
   "id": "3352d459",
   "metadata": {},
   "source": [
    "Мы подобрали модель на основе LGBM Classifier'а с параметрами (boosting_type='goss', n_estimators=1000, class_weight='balanced', learning_rate=0.05). Также подобрали порог классификации, улучшающий важную для заказчика метрику. Модель достигает результатов: f1 = 0.79 на трейне и 0.78 на тесте, что удовлетворяет условиям задания.\n",
    "\n",
    "С другой стороны можно рекомендовать модель линейной классификации, как самую быструю, при подобранном пороге классификации данная модель будет превосходить нижнюю границу метрики, обучаяс на два порядка быстрее."
   ]
  }
 ],
 "metadata": {
  "ExecuteTimeLog": [
   {
    "duration": 6787,
    "start_time": "2022-10-11T19:15:02.702Z"
   },
   {
    "duration": 2237,
    "start_time": "2022-10-11T19:15:09.492Z"
   },
   {
    "duration": 15,
    "start_time": "2022-10-11T19:15:11.731Z"
   },
   {
    "duration": 8,
    "start_time": "2022-10-11T19:15:20.571Z"
   },
   {
    "duration": 18,
    "start_time": "2022-10-11T19:15:21.446Z"
   },
   {
    "duration": 14,
    "start_time": "2022-10-11T19:16:07.908Z"
   },
   {
    "duration": 10,
    "start_time": "2022-10-11T19:16:09.648Z"
   },
   {
    "duration": 232,
    "start_time": "2022-10-11T19:16:10.609Z"
   },
   {
    "duration": 25,
    "start_time": "2022-10-11T19:16:50.626Z"
   },
   {
    "duration": 8,
    "start_time": "2022-10-11T19:16:51.423Z"
   },
   {
    "duration": 4,
    "start_time": "2022-10-11T19:16:52.905Z"
   },
   {
    "duration": 5,
    "start_time": "2022-10-11T19:16:53.443Z"
   },
   {
    "duration": 4,
    "start_time": "2022-10-11T19:16:53.764Z"
   }
  ],
  "kernelspec": {
   "display_name": "Python 3 (ipykernel)",
   "language": "python",
   "name": "python3"
  },
  "language_info": {
   "codemirror_mode": {
    "name": "ipython",
    "version": 3
   },
   "file_extension": ".py",
   "mimetype": "text/x-python",
   "name": "python",
   "nbconvert_exporter": "python",
   "pygments_lexer": "ipython3",
   "version": "3.9.7"
  },
  "toc": {
   "base_numbering": 1,
   "nav_menu": {},
   "number_sections": true,
   "sideBar": true,
   "skip_h1_title": true,
   "title_cell": "Table of Contents",
   "title_sidebar": "Contents",
   "toc_cell": false,
   "toc_position": {},
   "toc_section_display": true,
   "toc_window_display": false
  }
 },
 "nbformat": 4,
 "nbformat_minor": 5
}
